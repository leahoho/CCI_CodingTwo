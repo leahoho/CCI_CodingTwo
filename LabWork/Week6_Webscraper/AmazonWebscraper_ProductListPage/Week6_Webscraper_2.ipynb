{
 "cells": [
  {
   "cell_type": "code",
   "execution_count": 7,
   "id": "a1e87d31",
   "metadata": {},
   "outputs": [],
   "source": [
    "import csv\n",
    "from bs4 import BeautifulSoup"
   ]
  },
  {
   "cell_type": "code",
   "execution_count": 8,
   "id": "a8e69b58",
   "metadata": {},
   "outputs": [],
   "source": [
    "import time\n",
    "\n",
    "from selenium import webdriver"
   ]
  },
  {
   "cell_type": "code",
   "execution_count": 9,
   "id": "790beb31",
   "metadata": {},
   "outputs": [
    {
     "name": "stderr",
     "output_type": "stream",
     "text": [
      "\n",
      "\n",
      "====== WebDriver manager ======\n",
      "Current google-chrome version is 97.0.4692\n",
      "Get LATEST chromedriver version for 97.0.4692 google-chrome\n",
      "Driver [/Users/lea/.wdm/drivers/chromedriver/mac64_m1/97.0.4692.71/chromedriver] found in cache\n",
      "/var/folders/x4/dd4mq2gs2353xscldgwsptsw0000gn/T/ipykernel_28559/3926881570.py:5: DeprecationWarning: executable_path has been deprecated, please pass in a Service object\n",
      "  driver = webdriver.Chrome(ChromeDriverManager().install())\n"
     ]
    }
   ],
   "source": [
    "# driver = webdriver.Chrome(\"Users/lea/000_helloworld/Python/CodingTwo_Python_homework/chromedriver\")\n",
    "\n",
    "from selenium import webdriver\n",
    "from webdriver_manager.chrome import ChromeDriverManager\n",
    "driver = webdriver.Chrome(ChromeDriverManager().install())"
   ]
  },
  {
   "cell_type": "code",
   "execution_count": 10,
   "id": "b8c7aad0",
   "metadata": {},
   "outputs": [],
   "source": [
    "url = 'https://www.amazon.co.uk/'\n",
    "driver.get(url)"
   ]
  },
  {
   "cell_type": "code",
   "execution_count": 11,
   "id": "4f7de885",
   "metadata": {},
   "outputs": [],
   "source": [
    "def get_url(search_term):\n",
    " template = 'https://www.amazon.co.uk/s?k={}&i=stripbooks&dc&crid=18A50PQHVYE3Q&sprefix=fici%2Cstripbooks%2C83&ref=a9_sc_1'\n",
    " search_term = search_term.replace('','')\n",
    " return template.format(search_term)"
   ]
  },
  {
   "cell_type": "code",
   "execution_count": 16,
   "id": "aca623b5",
   "metadata": {},
   "outputs": [
    {
     "name": "stdout",
     "output_type": "stream",
     "text": [
      "https://www.amazon.co.uk/s?k=fiction&i=stripbooks&dc&crid=18A50PQHVYE3Q&sprefix=fici%2Cstripbooks%2C83&ref=a9_sc_1\n"
     ]
    }
   ],
   "source": [
    "url = get_url('fiction')\n",
    "print(url)"
   ]
  },
  {
   "cell_type": "code",
   "execution_count": 17,
   "id": "1ebb71ac",
   "metadata": {},
   "outputs": [],
   "source": [
    "soup = BeautifulSoup(driver.page_source, 'html.parser')"
   ]
  },
  {
   "cell_type": "code",
   "execution_count": 18,
   "id": "b2947494",
   "metadata": {},
   "outputs": [],
   "source": [
    "results = soup.find_all('div',{'data-component-type': 's-search-result'})"
   ]
  },
  {
   "cell_type": "code",
   "execution_count": 19,
   "id": "72cf98bf",
   "metadata": {},
   "outputs": [
    {
     "data": {
      "text/plain": [
       "22"
      ]
     },
     "execution_count": 19,
     "metadata": {},
     "output_type": "execute_result"
    }
   ],
   "source": [
    "len(results)\n"
   ]
  },
  {
   "cell_type": "code",
   "execution_count": 20,
   "id": "0f2bd8dc",
   "metadata": {},
   "outputs": [],
   "source": [
    "item = results[0]"
   ]
  },
  {
   "cell_type": "code",
   "execution_count": 21,
   "id": "d6d0572a",
   "metadata": {},
   "outputs": [],
   "source": [
    "atag = item.h2.a"
   ]
  },
  {
   "cell_type": "code",
   "execution_count": 22,
   "id": "8dddc130",
   "metadata": {},
   "outputs": [
    {
     "data": {
      "text/plain": [
       "'Greenwich Park: ‘A twisty, compulsive debut thriller about friendships, lies and the secrets we keep to protect ourselves’'"
      ]
     },
     "execution_count": 22,
     "metadata": {},
     "output_type": "execute_result"
    }
   ],
   "source": [
    "atag.text.strip()"
   ]
  },
  {
   "cell_type": "code",
   "execution_count": 23,
   "id": "d8684022",
   "metadata": {},
   "outputs": [],
   "source": [
    "description = atag.text.strip()"
   ]
  },
  {
   "cell_type": "code",
   "execution_count": 24,
   "id": "6a11d2c3",
   "metadata": {},
   "outputs": [],
   "source": [
    "url = 'https://www.amazon.co.uk/' + atag.get('href')"
   ]
  },
  {
   "cell_type": "code",
   "execution_count": 25,
   "id": "fd938951",
   "metadata": {},
   "outputs": [],
   "source": [
    "price_parent = item.find('span', 'a-price')"
   ]
  },
  {
   "cell_type": "code",
   "execution_count": 26,
   "id": "e304ee92",
   "metadata": {},
   "outputs": [],
   "source": [
    "price = price_parent.find('span', 'a-offscreen').text"
   ]
  },
  {
   "cell_type": "code",
   "execution_count": 27,
   "id": "9b36b887",
   "metadata": {},
   "outputs": [],
   "source": [
    "rating = item.i.text"
   ]
  },
  {
   "cell_type": "code",
   "execution_count": 28,
   "id": "28d42bc4",
   "metadata": {},
   "outputs": [],
   "source": [
    "def extract_record(item):\n",
    "#     description & url\n",
    "    atag = item.h2.a\n",
    "    description = atag.text.strip()\n",
    "    url = 'https://www.amazon.co.uk/' + atag.get('href')\n",
    "    \n",
    "#     price\n",
    "    price_parent = item.find('span', 'a-price')\n",
    "    price = price_parent.find('span', 'a-offscreen').text\n",
    "    \n",
    "#     Ranking\n",
    "    rating = item.i.text\n",
    "    \n",
    "    \n",
    "    result = (description, price, rating, url)\n",
    "    \n",
    "    return result"
   ]
  },
  {
   "cell_type": "code",
   "execution_count": 29,
   "id": "8fe35dba",
   "metadata": {},
   "outputs": [],
   "source": [
    "# Error handling\n",
    "\n",
    "def extract_record(item):\n",
    "#     description & url\n",
    "    atag = item.h2.a\n",
    "    description = atag.text.strip()\n",
    "    url = 'https://www.amazon.co.uk/' + atag.get('href')\n",
    "    \n",
    "    try:\n",
    "     price_parent = item.find('span', 'a-price')\n",
    "     price = price_parent.find('span', 'a-offscreen').text\n",
    "    \n",
    "    except AttributeError:\n",
    "     return \n",
    "    \n",
    "\n",
    "    try:\n",
    "     rating = item.i.text\n",
    "    \n",
    "    except AttributeError:\n",
    "     rating = ''\n",
    "    \n",
    "    \n",
    "    result = (description, price, rating, url)\n",
    "    \n",
    "    return result\n"
   ]
  },
  {
   "cell_type": "code",
   "execution_count": 30,
   "id": "e4fa6a48",
   "metadata": {},
   "outputs": [],
   "source": [
    "records = []\n",
    "results = soup.find_all('div',{'data-component-type': 's-search-result'})\n",
    "\n",
    "for item in results:\n",
    "    record = extract_record(item)\n",
    "    if record:\n",
    "      records.append(extract_record(item))"
   ]
  },
  {
   "cell_type": "code",
   "execution_count": 31,
   "id": "730515db",
   "metadata": {},
   "outputs": [
    {
     "data": {
      "text/plain": [
       "('Greenwich Park: ‘A twisty, compulsive debut thriller about friendships, lies and the secrets we keep to protect ourselves’',\n",
       " '£4.50',\n",
       " '4.3 out of 5 stars',\n",
       " 'https://www.amazon.co.uk//gp/slredirect/picassoRedirect.html/ref=pa_sp_atf_stripbooks_sr_pg1_1?ie=UTF8&adId=A06227363VJDPGWG41KBF&url=%2FGreenwich-Park-compulsive-motherhood-friendships%2Fdp%2F1526626500%2Fref%3Dsr_1_1_sspa%3Fcrid%3D18A50PQHVYE3Q%26keywords%3Dfiction%26qid%3D1647025849%26s%3Dbooks%26sprefix%3Dfici%252Cstripbooks%252C83%26sr%3D1-1-spons%26psc%3D1&qualifier=1647025849&id=6506136619220726&widgetName=sp_atf')"
      ]
     },
     "execution_count": 31,
     "metadata": {},
     "output_type": "execute_result"
    }
   ],
   "source": [
    "records[0]"
   ]
  },
  {
   "cell_type": "code",
   "execution_count": 32,
   "id": "fbcdd106",
   "metadata": {},
   "outputs": [
    {
     "name": "stdout",
     "output_type": "stream",
     "text": [
      "£4.50\n",
      "£0.00\n",
      "£4.99\n",
      "£2.00\n",
      "£4.99\n",
      "£2.99\n",
      "£6.29\n",
      "£4.49\n",
      "£6.49\n",
      "£2.99\n",
      "£0.99\n",
      "£4.50\n",
      "£4.50\n",
      "£5.99\n",
      "£4.50\n",
      "£0.00\n",
      "£2.00\n",
      "£2.99\n",
      "£3.99\n",
      "£4.99\n",
      "£5.99\n",
      "£0.99\n"
     ]
    }
   ],
   "source": [
    "for row in records:\n",
    "    print(row[1])"
   ]
  },
  {
   "cell_type": "markdown",
   "id": "024a3756",
   "metadata": {},
   "source": [
    "# Getting next page\n",
    "\n",
    "def get_url(search_term):\n",
    " template = 'https://www.amazon.co.uk/s?k={}&i=stripbooks&dc&crid=18A50PQHVYE3Q&sprefix=fici%2Cstripbooks%2C83&ref=a9_sc_1'\n",
    " search_term = search_term.replace('','')\n",
    "    \n",
    "# add term query to url\n",
    " url = template.format(search_term)\n",
    "\n",
    "# add page query to placeholder\n",
    " url += '&page{}'\n",
    "\n",
    " return url\n",
    "\n"
   ]
  },
  {
   "cell_type": "markdown",
   "id": "b18f4c31",
   "metadata": {},
   "source": [
    "# Putting all together"
   ]
  },
  {
   "cell_type": "code",
   "execution_count": 33,
   "id": "9cb25808",
   "metadata": {},
   "outputs": [
    {
     "name": "stderr",
     "output_type": "stream",
     "text": [
      "\n",
      "\n",
      "====== WebDriver manager ======\n",
      "Current google-chrome version is 97.0.4692\n",
      "Get LATEST chromedriver version for 97.0.4692 google-chrome\n",
      "Driver [/Users/lea/.wdm/drivers/chromedriver/mac64_m1/97.0.4692.71/chromedriver] found in cache\n",
      "/var/folders/x4/dd4mq2gs2353xscldgwsptsw0000gn/T/ipykernel_28559/963747097.py:6: DeprecationWarning: executable_path has been deprecated, please pass in a Service object\n",
      "  driver = webdriver.Chrome(ChromeDriverManager().install())\n"
     ]
    }
   ],
   "source": [
    "import csv\n",
    "from bs4 import BeautifulSoup\n",
    "\n",
    "from selenium import webdriver\n",
    "from webdriver_manager.chrome import ChromeDriverManager\n",
    "driver = webdriver.Chrome(ChromeDriverManager().install())\n",
    "\n",
    "def get_url(search_term):\n",
    " template = 'https://www.amazon.co.uk/s?k={}&i=stripbooks&dc&crid=18A50PQHVYE3Q&sprefix=fici%2Cstripbooks%2C83&ref=a9_sc_1'\n",
    " search_term = search_term.replace('','')\n",
    "    \n",
    "# add term query to url\n",
    " url = template.format(search_term)\n",
    "\n",
    "# add page query to placeholder\n",
    " url += '&page{}'\n",
    "\n",
    " return url\n",
    "\n",
    "# Error handling\n",
    "\n",
    "def extract_record(item):\n",
    "#     description & url\n",
    "    atag = item.h2.a\n",
    "    description = atag.text.strip()\n",
    "    url = 'https://www.amazon.co.uk/' + atag.get('href')\n",
    "    \n",
    "    try:\n",
    "     price_parent = item.find('span', 'a-price')\n",
    "     price = price_parent.find('span', 'a-offscreen').text\n",
    "    \n",
    "    except AttributeError:\n",
    "     return \n",
    "    \n",
    "\n",
    "    try:\n",
    "     rating = item.i.text\n",
    "    \n",
    "    except AttributeError:\n",
    "     rating = ''\n",
    "    \n",
    "    \n",
    "    result = (description, price, rating, url)\n",
    "    \n",
    "    return result\n",
    "\n",
    "def main(search_term):\n",
    "    from selenium import webdriver\n",
    "    from webdriver_manager.chrome import ChromeDriverManager\n",
    "    driver = webdriver.Chrome(ChromeDriverManager().install())  \n",
    "    \n",
    "    records = []\n",
    "    url = get_url(search_term)\n",
    "    \n",
    "    for page in range(1, 20):\n",
    "        driver.get(url.format(page))\n",
    "        soup = BeautifulSoup(driver.page_source,'html.parser')\n",
    "        results = soup.find_all('div',{'data-component-type': 's-search-result'})\n",
    "        \n",
    "        for item in results:\n",
    "            record = extract_record(item)\n",
    "            if record:\n",
    "                records.append(record)\n",
    "\n",
    "    driver.close()\n",
    "    \n",
    "#     save data to csv\n",
    "\n",
    "with open('results.csv', 'w', newline='', encoding='UTF8') as f:\n",
    "    writer = csv.writer(f)\n",
    "    writer.writerow(['Description','Price','Rating','Url'])\n",
    "    writer.writerow(records)\n",
    "\n"
   ]
  },
  {
   "cell_type": "code",
   "execution_count": 34,
   "id": "e083d03a",
   "metadata": {},
   "outputs": [
    {
     "data": {
      "text/plain": [
       "[('Greenwich Park: ‘A twisty, compulsive debut thriller about friendships, lies and the secrets we keep to protect ourselves’',\n",
       "  '£4.50',\n",
       "  '4.3 out of 5 stars',\n",
       "  'https://www.amazon.co.uk//gp/slredirect/picassoRedirect.html/ref=pa_sp_atf_stripbooks_sr_pg1_1?ie=UTF8&adId=A06227363VJDPGWG41KBF&url=%2FGreenwich-Park-compulsive-motherhood-friendships%2Fdp%2F1526626500%2Fref%3Dsr_1_1_sspa%3Fcrid%3D18A50PQHVYE3Q%26keywords%3Dfiction%26qid%3D1647025849%26s%3Dbooks%26sprefix%3Dfici%252Cstripbooks%252C83%26sr%3D1-1-spons%26psc%3D1&qualifier=1647025849&id=6506136619220726&widgetName=sp_atf'),\n",
       " ('Apocalypse Europe - The Pangea Protocol: A Science Fiction Fable set in near-future Europe (Apocalypse World Book 2)',\n",
       "  '£0.00',\n",
       "  '3.5 out of 5 stars',\n",
       "  'https://www.amazon.co.uk//gp/slredirect/picassoRedirect.html/ref=pa_sp_atf_stripbooks_sr_pg1_1?ie=UTF8&adId=A0903059269B0ZM9WG6OO&url=%2FApocalypse-Europe-Protocol-Science-near-future-ebook%2Fdp%2FB09C7H873T%2Fref%3Dsr_1_2_sspa%3Fcrid%3D18A50PQHVYE3Q%26keywords%3Dfiction%26qid%3D1647025849%26s%3Dbooks%26sprefix%3Dfici%252Cstripbooks%252C83%26sr%3D1-2-spons%26psc%3D1&qualifier=1647025849&id=6506136619220726&widgetName=sp_atf'),\n",
       " (\"Small Pleasures: Longlisted for the Women's Prize for Fiction 2021\",\n",
       "  '£4.99',\n",
       "  '4.2 out of 5 stars',\n",
       "  'https://www.amazon.co.uk//Small-Pleasures-Clare-Chambers-ebook/dp/B07S2S82S7/ref=sr_1_3?crid=18A50PQHVYE3Q&keywords=fiction&qid=1647025849&s=books&sprefix=fici%2Cstripbooks%2C83&sr=1-3'),\n",
       " ('The Secrets of Latimer House: An utterly gripping World War Two novel inspired by a true story from an exciting new voice in historical fiction',\n",
       "  '£2.00',\n",
       "  '4.6 out of 5 stars',\n",
       "  'https://www.amazon.co.uk//Secrets-Latimer-House-gripping-historical/dp/000840898X/ref=sr_1_4?crid=18A50PQHVYE3Q&keywords=fiction&qid=1647025849&s=books&sprefix=fici%2Cstripbooks%2C83&sr=1-4'),\n",
       " (\"Hamnet: Winner of the Women's Prize for Fiction 2020\",\n",
       "  '£4.99',\n",
       "  '4.5 out of 5 stars',\n",
       "  'https://www.amazon.co.uk//Hamnet-Maggie-OFarrell-ebook/dp/B07T4TCHM5/ref=sr_1_5?crid=18A50PQHVYE3Q&keywords=fiction&qid=1647025849&s=books&sprefix=fici%2Cstripbooks%2C83&sr=1-5'),\n",
       " ('Daughters of War: the most spellbinding escapist historical fiction novel from the No. 1 Sunday Times bestseller (The Daughters of War, Book 1)',\n",
       "  '£2.99',\n",
       "  '4.4 out of 5 stars',\n",
       "  'https://www.amazon.co.uk//Daughters-War-spellbinding-historical-bestseller-ebook/dp/B08QMYPN84/ref=sr_1_6?crid=18A50PQHVYE3Q&keywords=fiction&qid=1647025849&s=books&sprefix=fici%2Cstripbooks%2C83&sr=1-6'),\n",
       " ('Still Life: The instant Sunday Times bestseller and Waterstones Book of the Month',\n",
       "  '£6.29',\n",
       "  '4.5 out of 5 stars',\n",
       "  'https://www.amazon.co.uk//gp/slredirect/picassoRedirect.html/ref=pa_sp_mtf_stripbooks_sr_pg1_1?ie=UTF8&adId=A0765391LXL81SJ36KTY&url=%2FStill-Life-instant-bestseller-Between%2Fdp%2F0008283397%2Fref%3Dsr_1_7_sspa%3Fcrid%3D18A50PQHVYE3Q%26keywords%3Dfiction%26qid%3D1647025849%26s%3Dbooks%26sprefix%3Dfici%252Cstripbooks%252C83%26sr%3D1-7-spons%26psc%3D1&qualifier=1647025849&id=6506136619220726&widgetName=sp_mtf'),\n",
       " ('I Have Something to Tell you: The most thought-provoking, captivating fiction novel of 2021 from bestselling author Susan Lewis',\n",
       "  '£4.49',\n",
       "  '4.5 out of 5 stars',\n",
       "  'https://www.amazon.co.uk//gp/slredirect/picassoRedirect.html/ref=pa_sp_mtf_stripbooks_sr_pg1_1?ie=UTF8&adId=A045011925EWW8DBDAUTD&url=%2FHave-Something-Tell-You-thought-provoking%2Fdp%2F0008287023%2Fref%3Dsr_1_8_sspa%3Fcrid%3D18A50PQHVYE3Q%26keywords%3Dfiction%26qid%3D1647025849%26s%3Dbooks%26sprefix%3Dfici%252Cstripbooks%252C83%26sr%3D1-8-spons%26psc%3D1&qualifier=1647025849&id=6506136619220726&widgetName=sp_mtf'),\n",
       " ('The Hat Full of Secrets (Colour Fiction)',\n",
       "  '£6.49',\n",
       "  '4.9 out of 5 stars',\n",
       "  'https://www.amazon.co.uk//Hat-Full-Secrets-Colour-Fiction/dp/1788950763/ref=sr_1_9?crid=18A50PQHVYE3Q&keywords=fiction&qid=1647025849&s=books&sprefix=fici%2Cstripbooks%2C83&sr=1-9'),\n",
       " ('Three Things About Elsie: The Sunday Times bestseller longlisted for the Women’s Prize for Fiction',\n",
       "  '£2.99',\n",
       "  '4.3 out of 5 stars',\n",
       "  'https://www.amazon.co.uk//Three-Things-About-Elsie-Richard-ebook/dp/B06XWPVYKQ/ref=sr_1_10?crid=18A50PQHVYE3Q&keywords=fiction&qid=1647025849&s=books&sprefix=fici%2Cstripbooks%2C83&sr=1-10'),\n",
       " ('I Have Something to Tell You: The most thought-provoking, captivating fiction novel of 2021 from bestselling author Susan Lewis',\n",
       "  '£0.99',\n",
       "  '4.5 out of 5 stars',\n",
       "  'https://www.amazon.co.uk//Have-Something-Tell-You-thought-provoking-ebook/dp/B08WRZ7YDC/ref=sr_1_11?crid=18A50PQHVYE3Q&keywords=fiction&qid=1647025849&s=books&sprefix=fici%2Cstripbooks%2C83&sr=1-11'),\n",
       " ('Grown Ups: The Sunday Times No 1 Bestseller 2021',\n",
       "  '£4.50',\n",
       "  '4.3 out of 5 stars',\n",
       "  'https://www.amazon.co.uk//Grown-Ups-Sunday-Times-Bestseller/dp/1405918780/ref=sr_1_12?crid=18A50PQHVYE3Q&keywords=fiction&qid=1647025849&s=books&sprefix=fici%2Cstripbooks%2C83&sr=1-12'),\n",
       " ('Neglected: Scared, hungry and alone, Jamey craves affection',\n",
       "  '£4.50',\n",
       "  '4.8 out of 5 stars',\n",
       "  'https://www.amazon.co.uk//gp/slredirect/picassoRedirect.html/ref=pa_sp_mtf_stripbooks_sr_pg1_1?ie=UTF8&adId=A1020558QVPL6TOEOVJ4&url=%2FNeglected-Scared-hungry-craves-affection%2Fdp%2F0008507503%2Fref%3Dsr_1_13_sspa%3Fcrid%3D18A50PQHVYE3Q%26keywords%3Dfiction%26qid%3D1647025849%26s%3Dbooks%26sprefix%3Dfici%252Cstripbooks%252C83%26sr%3D1-13-spons%26psc%3D1&qualifier=1647025849&id=6506136619220726&widgetName=sp_mtf'),\n",
       " ('The Thursday Murder Club: The Record-Breaking Sunday Times Number One Bestseller',\n",
       "  '£5.99',\n",
       "  '4.4 out of 5 stars',\n",
       "  'https://www.amazon.co.uk//Thursday-Murder-Club-Richard-Osman-ebook/dp/B07S5D5TH7/ref=sr_1_14?crid=18A50PQHVYE3Q&keywords=fiction&qid=1647025849&s=books&sprefix=fici%2Cstripbooks%2C83&sr=1-14'),\n",
       " ('The Midnight Library: The No.1 Sunday Times bestseller and worldwide phenomenon',\n",
       "  '£4.50',\n",
       "  '4.4 out of 5 stars',\n",
       "  'https://www.amazon.co.uk//Midnight-Library-Matt-Haig/dp/1786892731/ref=sr_1_15?crid=18A50PQHVYE3Q&keywords=fiction&qid=1647025849&s=books&sprefix=fici%2Cstripbooks%2C83&sr=1-15'),\n",
       " ('Foundation: The Foundation Trilogy, Book 1',\n",
       "  '£0.00',\n",
       "  '4.4 out of 5 stars',\n",
       "  'https://www.amazon.co.uk//Foundation/dp/B07VWKBQW8/ref=sr_1_16?crid=18A50PQHVYE3Q&keywords=fiction&qid=1647025849&s=books&sprefix=fici%2Cstripbooks%2C83&sr=1-16'),\n",
       " (\"Everything is Beautiful: the most uplifting, heartwarming read of 2021: 'the most uplifting book of the year' Good Housekeeping\",\n",
       "  '£2.00',\n",
       "  '4.3 out of 5 stars',\n",
       "  'https://www.amazon.co.uk//Everything-Beautiful-most-uplifting-heartwarming/dp/0349427410/ref=sr_1_17?crid=18A50PQHVYE3Q&keywords=fiction&qid=1647025849&s=books&sprefix=fici%2Cstripbooks%2C83&sr=1-17'),\n",
       " ('Tell Nobody: Absolutely gripping crime fiction with unputdownable mystery and suspense (Detective Lottie Parker Book 5)',\n",
       "  '£2.99',\n",
       "  '4.7 out of 5 stars',\n",
       "  'https://www.amazon.co.uk//gp/slredirect/picassoRedirect.html/ref=pa_sp_mtf_stripbooks_sr_pg1_1?ie=UTF8&adId=A03105771DLDPAA28XIJC&url=%2FTell-Nobody-Absolutely-unputdownable-Detective-ebook%2Fdp%2FB07FDFNL32%2Fref%3Dsr_1_18_sspa%3Fcrid%3D18A50PQHVYE3Q%26keywords%3Dfiction%26qid%3D1647025849%26s%3Dbooks%26sprefix%3Dfici%252Cstripbooks%252C83%26sr%3D1-18-spons%26psc%3D1&qualifier=1647025849&id=6506136619220726&widgetName=sp_mtf'),\n",
       " ('Beach House Summer: don’t miss the brand new feel good women’s fiction novel from the Sunday Times bestseller this summer 2022',\n",
       "  '£3.99',\n",
       "  '',\n",
       "  'https://www.amazon.co.uk//Beach-House-Summer-fiction-bestseller-ebook/dp/B09DKBKWPG/ref=sr_1_19?crid=18A50PQHVYE3Q&keywords=fiction&qid=1647025849&s=books&sprefix=fici%2Cstripbooks%2C83&sr=1-19'),\n",
       " ('Worst Idea Ever: What’s a little white lie between best friends?',\n",
       "  '£4.99',\n",
       "  '4.2 out of 5 stars',\n",
       "  'https://www.amazon.co.uk//Worst-Idea-Ever-Sunday-Bestseller-ebook/dp/B08T68RJDZ/ref=sr_1_20?crid=18A50PQHVYE3Q&keywords=fiction&qid=1647025849&s=books&sprefix=fici%2Cstripbooks%2C83&sr=1-20'),\n",
       " ('The Fine Art of Invisible Detection: The thrilling BBC Between the Covers Book Club pick',\n",
       "  '£5.99',\n",
       "  '4.3 out of 5 stars',\n",
       "  'https://www.amazon.co.uk//Fine-Art-Invisible-Detection-thrilling/dp/0552172626/ref=sr_1_21?crid=18A50PQHVYE3Q&keywords=fiction&qid=1647025849&s=books&sprefix=fici%2Cstripbooks%2C83&sr=1-21'),\n",
       " ('Legion (The Raven and the Eagle series Book 1)',\n",
       "  '£0.99',\n",
       "  '4.3 out of 5 stars',\n",
       "  'https://www.amazon.co.uk//Legion-Raven-Eagle-Book-1-ebook/dp/B08XX8C2XN/ref=sr_1_22?crid=18A50PQHVYE3Q&keywords=fiction&qid=1647025849&s=books&sprefix=fici%2Cstripbooks%2C83&sr=1-22')]"
      ]
     },
     "execution_count": 34,
     "metadata": {},
     "output_type": "execute_result"
    }
   ],
   "source": [
    "records"
   ]
  },
  {
   "cell_type": "code",
   "execution_count": 35,
   "id": "f8a0923d",
   "metadata": {},
   "outputs": [
    {
     "name": "stderr",
     "output_type": "stream",
     "text": [
      "\n",
      "\n",
      "====== WebDriver manager ======\n",
      "Current google-chrome version is 97.0.4692\n",
      "Get LATEST chromedriver version for 97.0.4692 google-chrome\n",
      "Driver [/Users/lea/.wdm/drivers/chromedriver/mac64_m1/97.0.4692.71/chromedriver] found in cache\n",
      "/var/folders/x4/dd4mq2gs2353xscldgwsptsw0000gn/T/ipykernel_28559/963747097.py:50: DeprecationWarning: executable_path has been deprecated, please pass in a Service object\n",
      "  driver = webdriver.Chrome(ChromeDriverManager().install())\n"
     ]
    }
   ],
   "source": [
    "main('books')"
   ]
  },
  {
   "cell_type": "code",
   "execution_count": null,
   "id": "200b6ccd",
   "metadata": {},
   "outputs": [],
   "source": []
  }
 ],
 "metadata": {
  "kernelspec": {
   "display_name": "Python 3 (ipykernel)",
   "language": "python",
   "name": "python3"
  },
  "language_info": {
   "codemirror_mode": {
    "name": "ipython",
    "version": 3
   },
   "file_extension": ".py",
   "mimetype": "text/x-python",
   "name": "python",
   "nbconvert_exporter": "python",
   "pygments_lexer": "ipython3",
   "version": "3.9.10"
  }
 },
 "nbformat": 4,
 "nbformat_minor": 5
}
